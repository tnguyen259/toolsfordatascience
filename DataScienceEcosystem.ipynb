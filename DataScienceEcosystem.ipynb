{
 "cells": [
  {
   "cell_type": "markdown",
   "id": "002b4984-e577-49c7-9228-a8fe8056c56d",
   "metadata": {},
   "source": [
    "# Data Science Tools and Ecosystem"
   ]
  },
  {
   "cell_type": "markdown",
   "id": "05469c38-5d9f-478f-9ec6-e12ff9743f11",
   "metadata": {},
   "source": [
    "\n",
    "\n",
    "In this notebook, Data Science Tools and Ecosystem are summarized."
   ]
  },
  {
   "cell_type": "markdown",
   "id": "d885f218-1e97-4613-b20b-20adf862be36",
   "metadata": {},
   "source": [
    "**Objectives:**\n",
    "\n",
    "- List popular languages for Data Science\n",
    "- List commonly used libraries by Data Scientists\n",
    "- List development environment open source tools used in Data Science\n",
    "- Simple arithmetic expression"
   ]
  },
  {
   "cell_type": "markdown",
   "id": "5fc52593-ea96-44ff-89ea-5b7c4c1ec576",
   "metadata": {},
   "source": [
    "Some of the popular languages that Data Scientists use are:\n",
    "1. Python\n",
    "2. R\n",
    "3. SQL\n",
    "4. Scala"
   ]
  },
  {
   "cell_type": "markdown",
   "id": "9cf016fa-e40a-402d-81d8-5e1ac041c38d",
   "metadata": {},
   "source": [
    "Some of the commonly used libraries used by Data Scientists include:\n",
    "\r",
    "1. Pandas\n",
    "2. NumPy\n",
    "3. Matplotlib\n",
    "4. TensorFlow\n"
   ]
  },
  {
   "cell_type": "markdown",
   "id": "9982c8b2-a6d1-441a-ac91-25f5335d37e8",
   "metadata": {},
   "source": [
    "| Data Science Tools |\n",
    "|--------------------|\n",
    "| RStudio            |\n",
    "| Jupyter Notebook   |\n",
    "| Spyder             |"
   ]
  },
  {
   "cell_type": "markdown",
   "id": "d1bf0389-617b-4af8-8c66-59bfcf3bfa56",
   "metadata": {},
   "source": [
    "### Below are a few examples of evaluating arithmetic expressions in Python."
   ]
  },
  {
   "cell_type": "code",
   "execution_count": 29,
   "id": "345e10c2-9d3e-4b12-9e44-6ed23b4676a6",
   "metadata": {},
   "outputs": [
    {
     "data": {
      "text/plain": [
       "17"
      ]
     },
     "execution_count": 29,
     "metadata": {},
     "output_type": "execute_result"
    }
   ],
   "source": [
    "# This a simple arithmetic expression to mutiply then add integers\n",
    "\n",
    "(3*4)+5"
   ]
  },
  {
   "cell_type": "code",
   "execution_count": 30,
   "id": "c04d2f78-3a11-4523-8f8f-09c7e11b970c",
   "metadata": {},
   "outputs": [
    {
     "data": {
      "text/plain": [
       "3.3333333333333335"
      ]
     },
     "execution_count": 30,
     "metadata": {},
     "output_type": "execute_result"
    }
   ],
   "source": [
    "# This will convert 200 minutes to hours by diving by 60\n",
    "\n",
    "200/60"
   ]
  },
  {
   "cell_type": "markdown",
   "id": "0573f19e-fd2e-4ecd-9535-ba42978c072a",
   "metadata": {},
   "source": [
    "## Author\n",
    "\n",
    "Thang Nguyen"
   ]
  },
  {
   "cell_type": "code",
   "execution_count": null,
   "id": "c39557be-456d-4361-b9a6-11bdfca6ce49",
   "metadata": {},
   "outputs": [],
   "source": []
  }
 ],
 "metadata": {
  "kernelspec": {
   "display_name": "Python 3 (ipykernel)",
   "language": "python",
   "name": "python3"
  },
  "language_info": {
   "codemirror_mode": {
    "name": "ipython",
    "version": 3
   },
   "file_extension": ".py",
   "mimetype": "text/x-python",
   "name": "python",
   "nbconvert_exporter": "python",
   "pygments_lexer": "ipython3",
   "version": "3.11.5"
  }
 },
 "nbformat": 4,
 "nbformat_minor": 5
}
